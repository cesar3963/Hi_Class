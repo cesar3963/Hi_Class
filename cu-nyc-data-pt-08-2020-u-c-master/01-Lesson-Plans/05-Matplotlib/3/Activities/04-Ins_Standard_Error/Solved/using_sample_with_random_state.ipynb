{
 "cells": [
  {
   "cell_type": "code",
   "execution_count": 5,
   "metadata": {},
   "outputs": [],
   "source": [
    "# Dependencies\n",
    "import pandas as pd\n",
    "# import random\n",
    "import matplotlib.pyplot as plt\n",
    "import numpy as np\n",
    "from scipy.stats import sem"
   ]
  },
  {
   "cell_type": "code",
   "execution_count": 23,
   "metadata": {},
   "outputs": [
    {
     "data": {
      "text/html": [
       "<div>\n",
       "<style scoped>\n",
       "    .dataframe tbody tr th:only-of-type {\n",
       "        vertical-align: middle;\n",
       "    }\n",
       "\n",
       "    .dataframe tbody tr th {\n",
       "        vertical-align: top;\n",
       "    }\n",
       "\n",
       "    .dataframe thead th {\n",
       "        text-align: right;\n",
       "    }\n",
       "</style>\n",
       "<table border=\"1\" class=\"dataframe\">\n",
       "  <thead>\n",
       "    <tr style=\"text-align: right;\">\n",
       "      <th></th>\n",
       "      <th>Type</th>\n",
       "      <th>Combined_MPG</th>\n",
       "      <th>Make_Model</th>\n",
       "    </tr>\n",
       "  </thead>\n",
       "  <tbody>\n",
       "    <tr>\n",
       "      <th>0</th>\n",
       "      <td>Two Seaters</td>\n",
       "      <td>21.0000</td>\n",
       "      <td>Acura_NSX</td>\n",
       "    </tr>\n",
       "    <tr>\n",
       "      <th>1</th>\n",
       "      <td>Two Seaters</td>\n",
       "      <td>27.9406</td>\n",
       "      <td>ALFA ROMEO_4C</td>\n",
       "    </tr>\n",
       "  </tbody>\n",
       "</table>\n",
       "</div>"
      ],
      "text/plain": [
       "          Type  Combined_MPG     Make_Model\n",
       "0  Two Seaters       21.0000      Acura_NSX\n",
       "1  Two Seaters       27.9406  ALFA ROMEO_4C"
      ]
     },
     "execution_count": 23,
     "metadata": {},
     "output_type": "execute_result"
    }
   ],
   "source": [
    "# Sample versus population example fuel economy\n",
    "fuel_economy = pd.read_csv('../Resources/2019_fuel_economy.csv')\n",
    "\n",
    "# First overview the data set - how many factors, etc.\n",
    "fuel_economy.head(n=2)"
   ]
  },
  {
   "cell_type": "code",
   "execution_count": 30,
   "metadata": {},
   "outputs": [
    {
     "name": "stdout",
     "output_type": "stream",
     "text": [
      "Subset 0 has a SEM value for the sample fuel economy data of 1.0840148835634007\n",
      "Subset 1 has a SEM value for the sample fuel economy data of 0.8893926728415377\n",
      "Subset 2 has a SEM value for the sample fuel economy data of 1.2976175115443944\n",
      "Subset 3 has a SEM value for the sample fuel economy data of 0.9821441752392169\n",
      "Subset 4 has a SEM value for the sample fuel economy data of 1.106442281022422\n",
      "Subset 5 has a SEM value for the sample fuel economy data of 1.2168866152056512\n",
      "Subset 6 has a SEM value for the sample fuel economy data of 1.4326147166879453\n",
      "Subset 7 has a SEM value for the sample fuel economy data of 0.5704987479155236\n",
      "Subset 8 has a SEM value for the sample fuel economy data of 1.1572264339368934\n",
      "Subset 9 has a SEM value for the sample fuel economy data of 1.1890405832708713\n"
     ]
    }
   ],
   "source": [
    "# set random state to any value\n",
    "random_state_seed = 12\n",
    "\n",
    "# use a dictionary to remember SEM values calculated and the raw data used\n",
    "subsets = {}\n",
    "\n",
    "# create 10 samples\n",
    "for idx in range(10):\n",
    "    # create sample explicitly specifing the random state\n",
    "    subset = fuel_economy.sample(30, random_state=random_state_seed)\n",
    "    # increment the random state so the next sample will pick different examples\n",
    "    random_state_seed += 1\n",
    "    \n",
    "    SEM = sem(subset.Combined_MPG)\n",
    "    subsets[idx] = {'sem': SEM, 'raw_data': subset}\n",
    "    print(f\"Subset {idx} has a SEM value for the sample fuel economy data of {SEM}\")"
   ]
  },
  {
   "cell_type": "code",
   "execution_count": 31,
   "metadata": {},
   "outputs": [
    {
     "data": {
      "text/plain": [
       "{'sem': 1.0840148835634007,\n",
       " 'raw_data':                                       Type  Combined_MPG  \\\n",
       " 1156                      Standard SUV 4WD       20.1579   \n",
       " 720                 Midsize Station Wagons       20.7786   \n",
       " 700                   Small Station Wagons       43.1750   \n",
       " 194                        Subcompact Cars       22.7648   \n",
       " 246                        Subcompact Cars       14.6832   \n",
       " 1014                         Small SUV 4WD       26.9629   \n",
       " 878    Special Purpose Vehicle cab chassis       16.0000   \n",
       " 1235                      Standard SUV 4WD       28.4359   \n",
       " 891   Special Purpose Vehicle, minivan 2WD       22.3531   \n",
       " 1081                         Small SUV 4WD       18.4658   \n",
       " 592                             Large Cars       21.7599   \n",
       " 866            Special Purpose Vehicle 2WD       25.6715   \n",
       " 725                 Midsize Station Wagons       23.2733   \n",
       " 713                   Small Station Wagons       30.7968   \n",
       " 509                           Midsize Cars       26.4147   \n",
       " 1146                      Standard SUV 4WD       21.1032   \n",
       " 1188                      Standard SUV 4WD       13.3061   \n",
       " 59                             Two Seaters       20.7520   \n",
       " 914                          Small SUV 2WD       24.5154   \n",
       " 856                   Vans, Passenger Type       15.4530   \n",
       " 172                        Subcompact Cars       20.3517   \n",
       " 1180                      Standard SUV 4WD       16.8656   \n",
       " 847            Standard Pick-up Trucks 4WD       18.7854   \n",
       " 14                             Two Seaters       16.8163   \n",
       " 739               Small Pick-up Trucks 2WD       21.5263   \n",
       " 204                        Subcompact Cars       21.0000   \n",
       " 1166                      Standard SUV 4WD       16.6887   \n",
       " 941                          Small SUV 2WD       26.1675   \n",
       " 534                           Midsize Cars       24.1592   \n",
       " 248                        Subcompact Cars       28.7418   \n",
       " \n",
       "                                         Make_Model  \n",
       " 1156                             Buick_ENCLAVE AWD  \n",
       " 720                       Jaguar_XF Sportbrake AWD  \n",
       " 700            KIA MOTORS CORPORATION_Niro Touring  \n",
       " 194                       Ford_MUSTANG CONVERTIBLE  \n",
       " 246   Roush Industries, Inc._Roush Stage 3 Mustang  \n",
       " 1014                                Honda_CR-V AWD  \n",
       " 878        Chevrolet_C10 SILVERADO 2WD CAB CHASSIS  \n",
       " 1235                  TOYOTA_HIGHLANDER HYBRID AWD  \n",
       " 891                              Honda_ODYSSEY FWD  \n",
       " 1081       Mercedes-Benz_AMG GLC 63 4MATIC (coupe)  \n",
       " 592                                   Cadillac_XTS  \n",
       " 866             Ford_Transit Connect Wagon LWB FWD  \n",
       " 725                              NISSAN_MURANO FWD  \n",
       " 713                     Volkswagen_Golf SportWagen  \n",
       " 509                                   MAZDA_MAZDA6  \n",
       " 1146                                       Audi_Q7  \n",
       " 1188             Jeep_Grand Cherokee Trackhawk 4x4  \n",
       " 59                            NISSAN_370Z Roadster  \n",
       " 914                                  Ford_EDGE FWD  \n",
       " 856                        Ford_Transit T150 Wagon  \n",
       " 172                   BMW_M850i xDrive Convertible  \n",
       " 1180                           GMC_K1500 YUKON 4WD  \n",
       " 847                                   RAM_1500 4X4  \n",
       " 14           Ferrari North America, Inc._488 Pista  \n",
       " 739                            Honda_RIDGELINE FWD  \n",
       " 204                     INFINITI_Q60 AWD RED SPORT  \n",
       " 1166                             Dodge_Durango AWD  \n",
       " 941                               Jeep_Compass 4X2  \n",
       " 534            Mini_JOHN COOPER WORKS CLUBMAN ALL4  \n",
       " 248                  Volkswagen_Beetle Convertible  }"
      ]
     },
     "execution_count": 31,
     "metadata": {},
     "output_type": "execute_result"
    }
   ],
   "source": [
    "subsets[0]"
   ]
  },
  {
   "cell_type": "code",
   "execution_count": null,
   "metadata": {},
   "outputs": [],
   "source": []
  }
 ],
 "metadata": {
  "kernelspec": {
   "display_name": "Python [conda env:PythonData] *",
   "language": "python",
   "name": "conda-env-PythonData-py"
  },
  "language_info": {
   "codemirror_mode": {
    "name": "ipython",
    "version": 3
   },
   "file_extension": ".py",
   "mimetype": "text/x-python",
   "name": "python",
   "nbconvert_exporter": "python",
   "pygments_lexer": "ipython3",
   "version": "3.6.10"
  }
 },
 "nbformat": 4,
 "nbformat_minor": 4
}
